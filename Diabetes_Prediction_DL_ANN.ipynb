{
  "nbformat": 4,
  "nbformat_minor": 0,
  "metadata": {
    "colab": {
      "provenance": []
    },
    "kernelspec": {
      "name": "python3",
      "display_name": "Python 3"
    },
    "language_info": {
      "name": "python"
    }
  },
  "cells": [
    {
      "cell_type": "markdown",
      "source": [
        "# **Diabetes Prediction Model**\n",
        "\n",
        "------------"
      ],
      "metadata": {
        "id": "z2LIrRkepw1U"
      }
    },
    {
      "cell_type": "code",
      "execution_count": null,
      "metadata": {
        "id": "yzXqEpxAmv-g"
      },
      "outputs": [],
      "source": [
        "import numpy as np \n",
        "import pandas as pd \n",
        "from scipy import stats \n",
        "import seaborn as sns\n",
        "\n",
        "from sklearn.model_selection import train_test_split\n",
        "import tensorflow as tf\n",
        "from tensorflow.keras import Sequential\n",
        "from tensorflow.keras.layers import Dense, Dropout"
      ]
    },
    {
      "cell_type": "code",
      "source": [
        "from google.colab import drive\n",
        "drive.mount('/content/gdrive')"
      ],
      "metadata": {
        "colab": {
          "base_uri": "https://localhost:8080/"
        },
        "id": "uUztWNw8ENNc",
        "outputId": "42df20c6-cf2d-460d-9f26-4dde23d539f4"
      },
      "execution_count": null,
      "outputs": [
        {
          "output_type": "stream",
          "name": "stdout",
          "text": [
            "Mounted at /content/gdrive\n"
          ]
        }
      ]
    },
    {
      "cell_type": "code",
      "source": [
        "data= pd.read_csv('/content/gdrive/MyDrive/UIA Hackathon/diabetes.csv')\n",
        "data.head()"
      ],
      "metadata": {
        "colab": {
          "base_uri": "https://localhost:8080/",
          "height": 206
        },
        "id": "hL2u_HX6qiL2",
        "outputId": "af4a8193-08b7-4eb7-a665-f8b6084cd0c8"
      },
      "execution_count": null,
      "outputs": [
        {
          "output_type": "execute_result",
          "data": {
            "text/plain": [
              "   Glucose  BloodPressure  Insulin   BMI  Age  Outcome\n",
              "0      148             72        0  33.6   50        1\n",
              "1       85             66        0  26.6   31        0\n",
              "2      183             64        0  23.3   32        1\n",
              "3       89             66       94  28.1   21        0\n",
              "4      137             40      168  43.1   33        1"
            ],
            "text/html": [
              "\n",
              "  <div id=\"df-0a4cbe90-7861-4278-ae5e-b2609334a4b3\">\n",
              "    <div class=\"colab-df-container\">\n",
              "      <div>\n",
              "<style scoped>\n",
              "    .dataframe tbody tr th:only-of-type {\n",
              "        vertical-align: middle;\n",
              "    }\n",
              "\n",
              "    .dataframe tbody tr th {\n",
              "        vertical-align: top;\n",
              "    }\n",
              "\n",
              "    .dataframe thead th {\n",
              "        text-align: right;\n",
              "    }\n",
              "</style>\n",
              "<table border=\"1\" class=\"dataframe\">\n",
              "  <thead>\n",
              "    <tr style=\"text-align: right;\">\n",
              "      <th></th>\n",
              "      <th>Glucose</th>\n",
              "      <th>BloodPressure</th>\n",
              "      <th>Insulin</th>\n",
              "      <th>BMI</th>\n",
              "      <th>Age</th>\n",
              "      <th>Outcome</th>\n",
              "    </tr>\n",
              "  </thead>\n",
              "  <tbody>\n",
              "    <tr>\n",
              "      <th>0</th>\n",
              "      <td>148</td>\n",
              "      <td>72</td>\n",
              "      <td>0</td>\n",
              "      <td>33.6</td>\n",
              "      <td>50</td>\n",
              "      <td>1</td>\n",
              "    </tr>\n",
              "    <tr>\n",
              "      <th>1</th>\n",
              "      <td>85</td>\n",
              "      <td>66</td>\n",
              "      <td>0</td>\n",
              "      <td>26.6</td>\n",
              "      <td>31</td>\n",
              "      <td>0</td>\n",
              "    </tr>\n",
              "    <tr>\n",
              "      <th>2</th>\n",
              "      <td>183</td>\n",
              "      <td>64</td>\n",
              "      <td>0</td>\n",
              "      <td>23.3</td>\n",
              "      <td>32</td>\n",
              "      <td>1</td>\n",
              "    </tr>\n",
              "    <tr>\n",
              "      <th>3</th>\n",
              "      <td>89</td>\n",
              "      <td>66</td>\n",
              "      <td>94</td>\n",
              "      <td>28.1</td>\n",
              "      <td>21</td>\n",
              "      <td>0</td>\n",
              "    </tr>\n",
              "    <tr>\n",
              "      <th>4</th>\n",
              "      <td>137</td>\n",
              "      <td>40</td>\n",
              "      <td>168</td>\n",
              "      <td>43.1</td>\n",
              "      <td>33</td>\n",
              "      <td>1</td>\n",
              "    </tr>\n",
              "  </tbody>\n",
              "</table>\n",
              "</div>\n",
              "      <button class=\"colab-df-convert\" onclick=\"convertToInteractive('df-0a4cbe90-7861-4278-ae5e-b2609334a4b3')\"\n",
              "              title=\"Convert this dataframe to an interactive table.\"\n",
              "              style=\"display:none;\">\n",
              "        \n",
              "  <svg xmlns=\"http://www.w3.org/2000/svg\" height=\"24px\"viewBox=\"0 0 24 24\"\n",
              "       width=\"24px\">\n",
              "    <path d=\"M0 0h24v24H0V0z\" fill=\"none\"/>\n",
              "    <path d=\"M18.56 5.44l.94 2.06.94-2.06 2.06-.94-2.06-.94-.94-2.06-.94 2.06-2.06.94zm-11 1L8.5 8.5l.94-2.06 2.06-.94-2.06-.94L8.5 2.5l-.94 2.06-2.06.94zm10 10l.94 2.06.94-2.06 2.06-.94-2.06-.94-.94-2.06-.94 2.06-2.06.94z\"/><path d=\"M17.41 7.96l-1.37-1.37c-.4-.4-.92-.59-1.43-.59-.52 0-1.04.2-1.43.59L10.3 9.45l-7.72 7.72c-.78.78-.78 2.05 0 2.83L4 21.41c.39.39.9.59 1.41.59.51 0 1.02-.2 1.41-.59l7.78-7.78 2.81-2.81c.8-.78.8-2.07 0-2.86zM5.41 20L4 18.59l7.72-7.72 1.47 1.35L5.41 20z\"/>\n",
              "  </svg>\n",
              "      </button>\n",
              "      \n",
              "  <style>\n",
              "    .colab-df-container {\n",
              "      display:flex;\n",
              "      flex-wrap:wrap;\n",
              "      gap: 12px;\n",
              "    }\n",
              "\n",
              "    .colab-df-convert {\n",
              "      background-color: #E8F0FE;\n",
              "      border: none;\n",
              "      border-radius: 50%;\n",
              "      cursor: pointer;\n",
              "      display: none;\n",
              "      fill: #1967D2;\n",
              "      height: 32px;\n",
              "      padding: 0 0 0 0;\n",
              "      width: 32px;\n",
              "    }\n",
              "\n",
              "    .colab-df-convert:hover {\n",
              "      background-color: #E2EBFA;\n",
              "      box-shadow: 0px 1px 2px rgba(60, 64, 67, 0.3), 0px 1px 3px 1px rgba(60, 64, 67, 0.15);\n",
              "      fill: #174EA6;\n",
              "    }\n",
              "\n",
              "    [theme=dark] .colab-df-convert {\n",
              "      background-color: #3B4455;\n",
              "      fill: #D2E3FC;\n",
              "    }\n",
              "\n",
              "    [theme=dark] .colab-df-convert:hover {\n",
              "      background-color: #434B5C;\n",
              "      box-shadow: 0px 1px 3px 1px rgba(0, 0, 0, 0.15);\n",
              "      filter: drop-shadow(0px 1px 2px rgba(0, 0, 0, 0.3));\n",
              "      fill: #FFFFFF;\n",
              "    }\n",
              "  </style>\n",
              "\n",
              "      <script>\n",
              "        const buttonEl =\n",
              "          document.querySelector('#df-0a4cbe90-7861-4278-ae5e-b2609334a4b3 button.colab-df-convert');\n",
              "        buttonEl.style.display =\n",
              "          google.colab.kernel.accessAllowed ? 'block' : 'none';\n",
              "\n",
              "        async function convertToInteractive(key) {\n",
              "          const element = document.querySelector('#df-0a4cbe90-7861-4278-ae5e-b2609334a4b3');\n",
              "          const dataTable =\n",
              "            await google.colab.kernel.invokeFunction('convertToInteractive',\n",
              "                                                     [key], {});\n",
              "          if (!dataTable) return;\n",
              "\n",
              "          const docLinkHtml = 'Like what you see? Visit the ' +\n",
              "            '<a target=\"_blank\" href=https://colab.research.google.com/notebooks/data_table.ipynb>data table notebook</a>'\n",
              "            + ' to learn more about interactive tables.';\n",
              "          element.innerHTML = '';\n",
              "          dataTable['output_type'] = 'display_data';\n",
              "          await google.colab.output.renderOutput(dataTable, element);\n",
              "          const docLink = document.createElement('div');\n",
              "          docLink.innerHTML = docLinkHtml;\n",
              "          element.appendChild(docLink);\n",
              "        }\n",
              "      </script>\n",
              "    </div>\n",
              "  </div>\n",
              "  "
            ]
          },
          "metadata": {},
          "execution_count": 3
        }
      ]
    },
    {
      "cell_type": "code",
      "source": [
        "data.info()"
      ],
      "metadata": {
        "colab": {
          "base_uri": "https://localhost:8080/"
        },
        "id": "t8QYgP55q2vc",
        "outputId": "792aa1d0-5cc8-46ea-ff82-96aa45b935b3"
      },
      "execution_count": null,
      "outputs": [
        {
          "output_type": "stream",
          "name": "stdout",
          "text": [
            "<class 'pandas.core.frame.DataFrame'>\n",
            "RangeIndex: 768 entries, 0 to 767\n",
            "Data columns (total 6 columns):\n",
            " #   Column         Non-Null Count  Dtype  \n",
            "---  ------         --------------  -----  \n",
            " 0   Glucose        768 non-null    int64  \n",
            " 1   BloodPressure  768 non-null    int64  \n",
            " 2   Insulin        768 non-null    int64  \n",
            " 3   BMI            768 non-null    float64\n",
            " 4   Age            768 non-null    int64  \n",
            " 5   Outcome        768 non-null    int64  \n",
            "dtypes: float64(1), int64(5)\n",
            "memory usage: 36.1 KB\n"
          ]
        }
      ]
    },
    {
      "cell_type": "code",
      "source": [
        "data.dtypes"
      ],
      "metadata": {
        "colab": {
          "base_uri": "https://localhost:8080/"
        },
        "id": "Oy-dnJYD6FSE",
        "outputId": "1897561c-ee6a-4f70-e47d-cb43ec33fe82"
      },
      "execution_count": null,
      "outputs": [
        {
          "output_type": "execute_result",
          "data": {
            "text/plain": [
              "Glucose            int64\n",
              "BloodPressure      int64\n",
              "Insulin            int64\n",
              "BMI              float64\n",
              "Age                int64\n",
              "Outcome            int64\n",
              "dtype: object"
            ]
          },
          "metadata": {},
          "execution_count": 5
        }
      ]
    },
    {
      "cell_type": "markdown",
      "source": [
        "This data does not contain any null values. So we don't need to worry about filling/dropping values."
      ],
      "metadata": {
        "id": "SYks8QncsD5N"
      }
    },
    {
      "cell_type": "code",
      "source": [
        "data.isnull().sum()"
      ],
      "metadata": {
        "colab": {
          "base_uri": "https://localhost:8080/"
        },
        "id": "_Ajve_bsr_6W",
        "outputId": "dba11a0d-cfb6-4294-8db1-0df429b4c6c0"
      },
      "execution_count": null,
      "outputs": [
        {
          "output_type": "execute_result",
          "data": {
            "text/plain": [
              "Glucose          0\n",
              "BloodPressure    0\n",
              "Insulin          0\n",
              "BMI              0\n",
              "Age              0\n",
              "Outcome          0\n",
              "dtype: int64"
            ]
          },
          "metadata": {},
          "execution_count": 6
        }
      ]
    },
    {
      "cell_type": "code",
      "source": [
        "data.duplicated()\n",
        "data=data.drop_duplicates()\n",
        "data.head()"
      ],
      "metadata": {
        "colab": {
          "base_uri": "https://localhost:8080/",
          "height": 206
        },
        "id": "5-Yt0sHasa5F",
        "outputId": "94f8cfb9-3cfa-4e73-b2cd-a074ea7c1f31"
      },
      "execution_count": null,
      "outputs": [
        {
          "output_type": "execute_result",
          "data": {
            "text/plain": [
              "   Glucose  BloodPressure  Insulin   BMI  Age  Outcome\n",
              "0      148             72        0  33.6   50        1\n",
              "1       85             66        0  26.6   31        0\n",
              "2      183             64        0  23.3   32        1\n",
              "3       89             66       94  28.1   21        0\n",
              "4      137             40      168  43.1   33        1"
            ],
            "text/html": [
              "\n",
              "  <div id=\"df-8976dec3-e3c0-43fb-ac0b-d5f2b44f3ceb\">\n",
              "    <div class=\"colab-df-container\">\n",
              "      <div>\n",
              "<style scoped>\n",
              "    .dataframe tbody tr th:only-of-type {\n",
              "        vertical-align: middle;\n",
              "    }\n",
              "\n",
              "    .dataframe tbody tr th {\n",
              "        vertical-align: top;\n",
              "    }\n",
              "\n",
              "    .dataframe thead th {\n",
              "        text-align: right;\n",
              "    }\n",
              "</style>\n",
              "<table border=\"1\" class=\"dataframe\">\n",
              "  <thead>\n",
              "    <tr style=\"text-align: right;\">\n",
              "      <th></th>\n",
              "      <th>Glucose</th>\n",
              "      <th>BloodPressure</th>\n",
              "      <th>Insulin</th>\n",
              "      <th>BMI</th>\n",
              "      <th>Age</th>\n",
              "      <th>Outcome</th>\n",
              "    </tr>\n",
              "  </thead>\n",
              "  <tbody>\n",
              "    <tr>\n",
              "      <th>0</th>\n",
              "      <td>148</td>\n",
              "      <td>72</td>\n",
              "      <td>0</td>\n",
              "      <td>33.6</td>\n",
              "      <td>50</td>\n",
              "      <td>1</td>\n",
              "    </tr>\n",
              "    <tr>\n",
              "      <th>1</th>\n",
              "      <td>85</td>\n",
              "      <td>66</td>\n",
              "      <td>0</td>\n",
              "      <td>26.6</td>\n",
              "      <td>31</td>\n",
              "      <td>0</td>\n",
              "    </tr>\n",
              "    <tr>\n",
              "      <th>2</th>\n",
              "      <td>183</td>\n",
              "      <td>64</td>\n",
              "      <td>0</td>\n",
              "      <td>23.3</td>\n",
              "      <td>32</td>\n",
              "      <td>1</td>\n",
              "    </tr>\n",
              "    <tr>\n",
              "      <th>3</th>\n",
              "      <td>89</td>\n",
              "      <td>66</td>\n",
              "      <td>94</td>\n",
              "      <td>28.1</td>\n",
              "      <td>21</td>\n",
              "      <td>0</td>\n",
              "    </tr>\n",
              "    <tr>\n",
              "      <th>4</th>\n",
              "      <td>137</td>\n",
              "      <td>40</td>\n",
              "      <td>168</td>\n",
              "      <td>43.1</td>\n",
              "      <td>33</td>\n",
              "      <td>1</td>\n",
              "    </tr>\n",
              "  </tbody>\n",
              "</table>\n",
              "</div>\n",
              "      <button class=\"colab-df-convert\" onclick=\"convertToInteractive('df-8976dec3-e3c0-43fb-ac0b-d5f2b44f3ceb')\"\n",
              "              title=\"Convert this dataframe to an interactive table.\"\n",
              "              style=\"display:none;\">\n",
              "        \n",
              "  <svg xmlns=\"http://www.w3.org/2000/svg\" height=\"24px\"viewBox=\"0 0 24 24\"\n",
              "       width=\"24px\">\n",
              "    <path d=\"M0 0h24v24H0V0z\" fill=\"none\"/>\n",
              "    <path d=\"M18.56 5.44l.94 2.06.94-2.06 2.06-.94-2.06-.94-.94-2.06-.94 2.06-2.06.94zm-11 1L8.5 8.5l.94-2.06 2.06-.94-2.06-.94L8.5 2.5l-.94 2.06-2.06.94zm10 10l.94 2.06.94-2.06 2.06-.94-2.06-.94-.94-2.06-.94 2.06-2.06.94z\"/><path d=\"M17.41 7.96l-1.37-1.37c-.4-.4-.92-.59-1.43-.59-.52 0-1.04.2-1.43.59L10.3 9.45l-7.72 7.72c-.78.78-.78 2.05 0 2.83L4 21.41c.39.39.9.59 1.41.59.51 0 1.02-.2 1.41-.59l7.78-7.78 2.81-2.81c.8-.78.8-2.07 0-2.86zM5.41 20L4 18.59l7.72-7.72 1.47 1.35L5.41 20z\"/>\n",
              "  </svg>\n",
              "      </button>\n",
              "      \n",
              "  <style>\n",
              "    .colab-df-container {\n",
              "      display:flex;\n",
              "      flex-wrap:wrap;\n",
              "      gap: 12px;\n",
              "    }\n",
              "\n",
              "    .colab-df-convert {\n",
              "      background-color: #E8F0FE;\n",
              "      border: none;\n",
              "      border-radius: 50%;\n",
              "      cursor: pointer;\n",
              "      display: none;\n",
              "      fill: #1967D2;\n",
              "      height: 32px;\n",
              "      padding: 0 0 0 0;\n",
              "      width: 32px;\n",
              "    }\n",
              "\n",
              "    .colab-df-convert:hover {\n",
              "      background-color: #E2EBFA;\n",
              "      box-shadow: 0px 1px 2px rgba(60, 64, 67, 0.3), 0px 1px 3px 1px rgba(60, 64, 67, 0.15);\n",
              "      fill: #174EA6;\n",
              "    }\n",
              "\n",
              "    [theme=dark] .colab-df-convert {\n",
              "      background-color: #3B4455;\n",
              "      fill: #D2E3FC;\n",
              "    }\n",
              "\n",
              "    [theme=dark] .colab-df-convert:hover {\n",
              "      background-color: #434B5C;\n",
              "      box-shadow: 0px 1px 3px 1px rgba(0, 0, 0, 0.15);\n",
              "      filter: drop-shadow(0px 1px 2px rgba(0, 0, 0, 0.3));\n",
              "      fill: #FFFFFF;\n",
              "    }\n",
              "  </style>\n",
              "\n",
              "      <script>\n",
              "        const buttonEl =\n",
              "          document.querySelector('#df-8976dec3-e3c0-43fb-ac0b-d5f2b44f3ceb button.colab-df-convert');\n",
              "        buttonEl.style.display =\n",
              "          google.colab.kernel.accessAllowed ? 'block' : 'none';\n",
              "\n",
              "        async function convertToInteractive(key) {\n",
              "          const element = document.querySelector('#df-8976dec3-e3c0-43fb-ac0b-d5f2b44f3ceb');\n",
              "          const dataTable =\n",
              "            await google.colab.kernel.invokeFunction('convertToInteractive',\n",
              "                                                     [key], {});\n",
              "          if (!dataTable) return;\n",
              "\n",
              "          const docLinkHtml = 'Like what you see? Visit the ' +\n",
              "            '<a target=\"_blank\" href=https://colab.research.google.com/notebooks/data_table.ipynb>data table notebook</a>'\n",
              "            + ' to learn more about interactive tables.';\n",
              "          element.innerHTML = '';\n",
              "          dataTable['output_type'] = 'display_data';\n",
              "          await google.colab.output.renderOutput(dataTable, element);\n",
              "          const docLink = document.createElement('div');\n",
              "          docLink.innerHTML = docLinkHtml;\n",
              "          element.appendChild(docLink);\n",
              "        }\n",
              "      </script>\n",
              "    </div>\n",
              "  </div>\n",
              "  "
            ]
          },
          "metadata": {},
          "execution_count": 7
        }
      ]
    },
    {
      "cell_type": "markdown",
      "source": [
        "The data doesn't contain any duplicate values also. Hence we need not worry about them."
      ],
      "metadata": {
        "id": "rPiioZcIskq8"
      }
    },
    {
      "cell_type": "code",
      "source": [
        "data.describe()"
      ],
      "metadata": {
        "colab": {
          "base_uri": "https://localhost:8080/",
          "height": 300
        },
        "id": "S3my-Hhusfvc",
        "outputId": "ae6ae49d-4ef4-464c-d788-a52a4906f666"
      },
      "execution_count": null,
      "outputs": [
        {
          "output_type": "execute_result",
          "data": {
            "text/plain": [
              "          Glucose  BloodPressure     Insulin         BMI         Age  \\\n",
              "count  768.000000     768.000000  768.000000  768.000000  768.000000   \n",
              "mean   120.894531      69.105469   79.799479   31.992578   33.240885   \n",
              "std     31.972618      19.355807  115.244002    7.884160   11.760232   \n",
              "min      0.000000       0.000000    0.000000    0.000000   21.000000   \n",
              "25%     99.000000      62.000000    0.000000   27.300000   24.000000   \n",
              "50%    117.000000      72.000000   30.500000   32.000000   29.000000   \n",
              "75%    140.250000      80.000000  127.250000   36.600000   41.000000   \n",
              "max    199.000000     122.000000  846.000000   67.100000   81.000000   \n",
              "\n",
              "          Outcome  \n",
              "count  768.000000  \n",
              "mean     0.348958  \n",
              "std      0.476951  \n",
              "min      0.000000  \n",
              "25%      0.000000  \n",
              "50%      0.000000  \n",
              "75%      1.000000  \n",
              "max      1.000000  "
            ],
            "text/html": [
              "\n",
              "  <div id=\"df-2c548511-d312-455d-8033-a6f6ad5fb006\">\n",
              "    <div class=\"colab-df-container\">\n",
              "      <div>\n",
              "<style scoped>\n",
              "    .dataframe tbody tr th:only-of-type {\n",
              "        vertical-align: middle;\n",
              "    }\n",
              "\n",
              "    .dataframe tbody tr th {\n",
              "        vertical-align: top;\n",
              "    }\n",
              "\n",
              "    .dataframe thead th {\n",
              "        text-align: right;\n",
              "    }\n",
              "</style>\n",
              "<table border=\"1\" class=\"dataframe\">\n",
              "  <thead>\n",
              "    <tr style=\"text-align: right;\">\n",
              "      <th></th>\n",
              "      <th>Glucose</th>\n",
              "      <th>BloodPressure</th>\n",
              "      <th>Insulin</th>\n",
              "      <th>BMI</th>\n",
              "      <th>Age</th>\n",
              "      <th>Outcome</th>\n",
              "    </tr>\n",
              "  </thead>\n",
              "  <tbody>\n",
              "    <tr>\n",
              "      <th>count</th>\n",
              "      <td>768.000000</td>\n",
              "      <td>768.000000</td>\n",
              "      <td>768.000000</td>\n",
              "      <td>768.000000</td>\n",
              "      <td>768.000000</td>\n",
              "      <td>768.000000</td>\n",
              "    </tr>\n",
              "    <tr>\n",
              "      <th>mean</th>\n",
              "      <td>120.894531</td>\n",
              "      <td>69.105469</td>\n",
              "      <td>79.799479</td>\n",
              "      <td>31.992578</td>\n",
              "      <td>33.240885</td>\n",
              "      <td>0.348958</td>\n",
              "    </tr>\n",
              "    <tr>\n",
              "      <th>std</th>\n",
              "      <td>31.972618</td>\n",
              "      <td>19.355807</td>\n",
              "      <td>115.244002</td>\n",
              "      <td>7.884160</td>\n",
              "      <td>11.760232</td>\n",
              "      <td>0.476951</td>\n",
              "    </tr>\n",
              "    <tr>\n",
              "      <th>min</th>\n",
              "      <td>0.000000</td>\n",
              "      <td>0.000000</td>\n",
              "      <td>0.000000</td>\n",
              "      <td>0.000000</td>\n",
              "      <td>21.000000</td>\n",
              "      <td>0.000000</td>\n",
              "    </tr>\n",
              "    <tr>\n",
              "      <th>25%</th>\n",
              "      <td>99.000000</td>\n",
              "      <td>62.000000</td>\n",
              "      <td>0.000000</td>\n",
              "      <td>27.300000</td>\n",
              "      <td>24.000000</td>\n",
              "      <td>0.000000</td>\n",
              "    </tr>\n",
              "    <tr>\n",
              "      <th>50%</th>\n",
              "      <td>117.000000</td>\n",
              "      <td>72.000000</td>\n",
              "      <td>30.500000</td>\n",
              "      <td>32.000000</td>\n",
              "      <td>29.000000</td>\n",
              "      <td>0.000000</td>\n",
              "    </tr>\n",
              "    <tr>\n",
              "      <th>75%</th>\n",
              "      <td>140.250000</td>\n",
              "      <td>80.000000</td>\n",
              "      <td>127.250000</td>\n",
              "      <td>36.600000</td>\n",
              "      <td>41.000000</td>\n",
              "      <td>1.000000</td>\n",
              "    </tr>\n",
              "    <tr>\n",
              "      <th>max</th>\n",
              "      <td>199.000000</td>\n",
              "      <td>122.000000</td>\n",
              "      <td>846.000000</td>\n",
              "      <td>67.100000</td>\n",
              "      <td>81.000000</td>\n",
              "      <td>1.000000</td>\n",
              "    </tr>\n",
              "  </tbody>\n",
              "</table>\n",
              "</div>\n",
              "      <button class=\"colab-df-convert\" onclick=\"convertToInteractive('df-2c548511-d312-455d-8033-a6f6ad5fb006')\"\n",
              "              title=\"Convert this dataframe to an interactive table.\"\n",
              "              style=\"display:none;\">\n",
              "        \n",
              "  <svg xmlns=\"http://www.w3.org/2000/svg\" height=\"24px\"viewBox=\"0 0 24 24\"\n",
              "       width=\"24px\">\n",
              "    <path d=\"M0 0h24v24H0V0z\" fill=\"none\"/>\n",
              "    <path d=\"M18.56 5.44l.94 2.06.94-2.06 2.06-.94-2.06-.94-.94-2.06-.94 2.06-2.06.94zm-11 1L8.5 8.5l.94-2.06 2.06-.94-2.06-.94L8.5 2.5l-.94 2.06-2.06.94zm10 10l.94 2.06.94-2.06 2.06-.94-2.06-.94-.94-2.06-.94 2.06-2.06.94z\"/><path d=\"M17.41 7.96l-1.37-1.37c-.4-.4-.92-.59-1.43-.59-.52 0-1.04.2-1.43.59L10.3 9.45l-7.72 7.72c-.78.78-.78 2.05 0 2.83L4 21.41c.39.39.9.59 1.41.59.51 0 1.02-.2 1.41-.59l7.78-7.78 2.81-2.81c.8-.78.8-2.07 0-2.86zM5.41 20L4 18.59l7.72-7.72 1.47 1.35L5.41 20z\"/>\n",
              "  </svg>\n",
              "      </button>\n",
              "      \n",
              "  <style>\n",
              "    .colab-df-container {\n",
              "      display:flex;\n",
              "      flex-wrap:wrap;\n",
              "      gap: 12px;\n",
              "    }\n",
              "\n",
              "    .colab-df-convert {\n",
              "      background-color: #E8F0FE;\n",
              "      border: none;\n",
              "      border-radius: 50%;\n",
              "      cursor: pointer;\n",
              "      display: none;\n",
              "      fill: #1967D2;\n",
              "      height: 32px;\n",
              "      padding: 0 0 0 0;\n",
              "      width: 32px;\n",
              "    }\n",
              "\n",
              "    .colab-df-convert:hover {\n",
              "      background-color: #E2EBFA;\n",
              "      box-shadow: 0px 1px 2px rgba(60, 64, 67, 0.3), 0px 1px 3px 1px rgba(60, 64, 67, 0.15);\n",
              "      fill: #174EA6;\n",
              "    }\n",
              "\n",
              "    [theme=dark] .colab-df-convert {\n",
              "      background-color: #3B4455;\n",
              "      fill: #D2E3FC;\n",
              "    }\n",
              "\n",
              "    [theme=dark] .colab-df-convert:hover {\n",
              "      background-color: #434B5C;\n",
              "      box-shadow: 0px 1px 3px 1px rgba(0, 0, 0, 0.15);\n",
              "      filter: drop-shadow(0px 1px 2px rgba(0, 0, 0, 0.3));\n",
              "      fill: #FFFFFF;\n",
              "    }\n",
              "  </style>\n",
              "\n",
              "      <script>\n",
              "        const buttonEl =\n",
              "          document.querySelector('#df-2c548511-d312-455d-8033-a6f6ad5fb006 button.colab-df-convert');\n",
              "        buttonEl.style.display =\n",
              "          google.colab.kernel.accessAllowed ? 'block' : 'none';\n",
              "\n",
              "        async function convertToInteractive(key) {\n",
              "          const element = document.querySelector('#df-2c548511-d312-455d-8033-a6f6ad5fb006');\n",
              "          const dataTable =\n",
              "            await google.colab.kernel.invokeFunction('convertToInteractive',\n",
              "                                                     [key], {});\n",
              "          if (!dataTable) return;\n",
              "\n",
              "          const docLinkHtml = 'Like what you see? Visit the ' +\n",
              "            '<a target=\"_blank\" href=https://colab.research.google.com/notebooks/data_table.ipynb>data table notebook</a>'\n",
              "            + ' to learn more about interactive tables.';\n",
              "          element.innerHTML = '';\n",
              "          dataTable['output_type'] = 'display_data';\n",
              "          await google.colab.output.renderOutput(dataTable, element);\n",
              "          const docLink = document.createElement('div');\n",
              "          docLink.innerHTML = docLinkHtml;\n",
              "          element.appendChild(docLink);\n",
              "        }\n",
              "      </script>\n",
              "    </div>\n",
              "  </div>\n",
              "  "
            ]
          },
          "metadata": {},
          "execution_count": 8
        }
      ]
    },
    {
      "cell_type": "markdown",
      "source": [
        "All bioparameters are in the range. Hence the data does not have observational/structural errors in them. Hence we need to worry about them."
      ],
      "metadata": {
        "id": "RiOZH3v6szbu"
      }
    },
    {
      "cell_type": "code",
      "source": [
        "for x in data.columns:\n",
        "    z=np.abs(stats.zscore(data[x]))\n",
        "    print(x+str(z))"
      ],
      "metadata": {
        "colab": {
          "base_uri": "https://localhost:8080/"
        },
        "id": "yDIDmJrcsv8d",
        "outputId": "d2c2eeae-efd4-4bb1-aca0-b815af4dfd15"
      },
      "execution_count": null,
      "outputs": [
        {
          "output_type": "stream",
          "name": "stdout",
          "text": [
            "Glucose0      0.848324\n",
            "1      1.123396\n",
            "2      1.943724\n",
            "3      0.998208\n",
            "4      0.504055\n",
            "         ...   \n",
            "763    0.622642\n",
            "764    0.034598\n",
            "765    0.003301\n",
            "766    0.159787\n",
            "767    0.873019\n",
            "Name: Glucose, Length: 768, dtype: float64\n",
            "BloodPressure0      0.149641\n",
            "1      0.160546\n",
            "2      0.263941\n",
            "3      0.160546\n",
            "4      1.504687\n",
            "         ...   \n",
            "763    0.356432\n",
            "764    0.046245\n",
            "765    0.149641\n",
            "766    0.470732\n",
            "767    0.046245\n",
            "Name: BloodPressure, Length: 768, dtype: float64\n",
            "Insulin0      0.692891\n",
            "1      0.692891\n",
            "2      0.692891\n",
            "3      0.123302\n",
            "4      0.765836\n",
            "         ...   \n",
            "763    0.870031\n",
            "764    0.692891\n",
            "765    0.279594\n",
            "766    0.692891\n",
            "767    0.692891\n",
            "Name: Insulin, Length: 768, dtype: float64\n",
            "BMI0      0.204013\n",
            "1      0.684422\n",
            "2      1.103255\n",
            "3      0.494043\n",
            "4      1.409746\n",
            "         ...   \n",
            "763    0.115169\n",
            "764    0.610154\n",
            "765    0.735190\n",
            "766    0.240205\n",
            "767    0.202129\n",
            "Name: BMI, Length: 768, dtype: float64\n",
            "Age0      1.425995\n",
            "1      0.190672\n",
            "2      0.105584\n",
            "3      1.041549\n",
            "4      0.020496\n",
            "         ...   \n",
            "763    2.532136\n",
            "764    0.531023\n",
            "765    0.275760\n",
            "766    1.170732\n",
            "767    0.871374\n",
            "Name: Age, Length: 768, dtype: float64\n",
            "Outcome0      1.365896\n",
            "1      0.732120\n",
            "2      1.365896\n",
            "3      0.732120\n",
            "4      1.365896\n",
            "         ...   \n",
            "763    0.732120\n",
            "764    0.732120\n",
            "765    0.732120\n",
            "766    1.365896\n",
            "767    0.732120\n",
            "Name: Outcome, Length: 768, dtype: float64\n"
          ]
        }
      ]
    },
    {
      "cell_type": "markdown",
      "source": [
        "According to the z-score statistical parameter, the above datapoints are considered as outliers. But I dont think these are outliers and I consider that these data are essential for identfying diabetes condition."
      ],
      "metadata": {
        "id": "UeqlBzjNs_jl"
      }
    },
    {
      "cell_type": "markdown",
      "source": [
        "The next step is feature scaling. I am doing a comparison of ML and DL for this dataset. For ML, i am considering SVM, which is a distance based algorithm. Hence normalization of data would be appropriate. On the other hand, for DL I am considering ANN, which is gradient descent based algorithm for which standardisation of data would be appropriate, since it can help in faster identification of local minima."
      ],
      "metadata": {
        "id": "0JwH1IWItBEV"
      }
    },
    {
      "cell_type": "code",
      "source": [
        "data_norm=data.copy()\n",
        "for column in data.columns:\n",
        "    data_norm[column] = (data_norm[column] - data_norm[column].min()) / (data_norm[column].max() - data_norm[column].min()) \n",
        "data_norm.head()"
      ],
      "metadata": {
        "colab": {
          "base_uri": "https://localhost:8080/",
          "height": 206
        },
        "id": "JFuXEciLs6ut",
        "outputId": "735aed63-7eb6-4aa0-b64b-c1fba70e8571"
      },
      "execution_count": null,
      "outputs": [
        {
          "output_type": "execute_result",
          "data": {
            "text/plain": [
              "    Glucose  BloodPressure   Insulin       BMI       Age  Outcome\n",
              "0  0.743719       0.590164  0.000000  0.500745  0.483333      1.0\n",
              "1  0.427136       0.540984  0.000000  0.396423  0.166667      0.0\n",
              "2  0.919598       0.524590  0.000000  0.347243  0.183333      1.0\n",
              "3  0.447236       0.540984  0.111111  0.418778  0.000000      0.0\n",
              "4  0.688442       0.327869  0.198582  0.642325  0.200000      1.0"
            ],
            "text/html": [
              "\n",
              "  <div id=\"df-84783ebb-0bc5-4f55-b2e0-8899e4ff38f6\">\n",
              "    <div class=\"colab-df-container\">\n",
              "      <div>\n",
              "<style scoped>\n",
              "    .dataframe tbody tr th:only-of-type {\n",
              "        vertical-align: middle;\n",
              "    }\n",
              "\n",
              "    .dataframe tbody tr th {\n",
              "        vertical-align: top;\n",
              "    }\n",
              "\n",
              "    .dataframe thead th {\n",
              "        text-align: right;\n",
              "    }\n",
              "</style>\n",
              "<table border=\"1\" class=\"dataframe\">\n",
              "  <thead>\n",
              "    <tr style=\"text-align: right;\">\n",
              "      <th></th>\n",
              "      <th>Glucose</th>\n",
              "      <th>BloodPressure</th>\n",
              "      <th>Insulin</th>\n",
              "      <th>BMI</th>\n",
              "      <th>Age</th>\n",
              "      <th>Outcome</th>\n",
              "    </tr>\n",
              "  </thead>\n",
              "  <tbody>\n",
              "    <tr>\n",
              "      <th>0</th>\n",
              "      <td>0.743719</td>\n",
              "      <td>0.590164</td>\n",
              "      <td>0.000000</td>\n",
              "      <td>0.500745</td>\n",
              "      <td>0.483333</td>\n",
              "      <td>1.0</td>\n",
              "    </tr>\n",
              "    <tr>\n",
              "      <th>1</th>\n",
              "      <td>0.427136</td>\n",
              "      <td>0.540984</td>\n",
              "      <td>0.000000</td>\n",
              "      <td>0.396423</td>\n",
              "      <td>0.166667</td>\n",
              "      <td>0.0</td>\n",
              "    </tr>\n",
              "    <tr>\n",
              "      <th>2</th>\n",
              "      <td>0.919598</td>\n",
              "      <td>0.524590</td>\n",
              "      <td>0.000000</td>\n",
              "      <td>0.347243</td>\n",
              "      <td>0.183333</td>\n",
              "      <td>1.0</td>\n",
              "    </tr>\n",
              "    <tr>\n",
              "      <th>3</th>\n",
              "      <td>0.447236</td>\n",
              "      <td>0.540984</td>\n",
              "      <td>0.111111</td>\n",
              "      <td>0.418778</td>\n",
              "      <td>0.000000</td>\n",
              "      <td>0.0</td>\n",
              "    </tr>\n",
              "    <tr>\n",
              "      <th>4</th>\n",
              "      <td>0.688442</td>\n",
              "      <td>0.327869</td>\n",
              "      <td>0.198582</td>\n",
              "      <td>0.642325</td>\n",
              "      <td>0.200000</td>\n",
              "      <td>1.0</td>\n",
              "    </tr>\n",
              "  </tbody>\n",
              "</table>\n",
              "</div>\n",
              "      <button class=\"colab-df-convert\" onclick=\"convertToInteractive('df-84783ebb-0bc5-4f55-b2e0-8899e4ff38f6')\"\n",
              "              title=\"Convert this dataframe to an interactive table.\"\n",
              "              style=\"display:none;\">\n",
              "        \n",
              "  <svg xmlns=\"http://www.w3.org/2000/svg\" height=\"24px\"viewBox=\"0 0 24 24\"\n",
              "       width=\"24px\">\n",
              "    <path d=\"M0 0h24v24H0V0z\" fill=\"none\"/>\n",
              "    <path d=\"M18.56 5.44l.94 2.06.94-2.06 2.06-.94-2.06-.94-.94-2.06-.94 2.06-2.06.94zm-11 1L8.5 8.5l.94-2.06 2.06-.94-2.06-.94L8.5 2.5l-.94 2.06-2.06.94zm10 10l.94 2.06.94-2.06 2.06-.94-2.06-.94-.94-2.06-.94 2.06-2.06.94z\"/><path d=\"M17.41 7.96l-1.37-1.37c-.4-.4-.92-.59-1.43-.59-.52 0-1.04.2-1.43.59L10.3 9.45l-7.72 7.72c-.78.78-.78 2.05 0 2.83L4 21.41c.39.39.9.59 1.41.59.51 0 1.02-.2 1.41-.59l7.78-7.78 2.81-2.81c.8-.78.8-2.07 0-2.86zM5.41 20L4 18.59l7.72-7.72 1.47 1.35L5.41 20z\"/>\n",
              "  </svg>\n",
              "      </button>\n",
              "      \n",
              "  <style>\n",
              "    .colab-df-container {\n",
              "      display:flex;\n",
              "      flex-wrap:wrap;\n",
              "      gap: 12px;\n",
              "    }\n",
              "\n",
              "    .colab-df-convert {\n",
              "      background-color: #E8F0FE;\n",
              "      border: none;\n",
              "      border-radius: 50%;\n",
              "      cursor: pointer;\n",
              "      display: none;\n",
              "      fill: #1967D2;\n",
              "      height: 32px;\n",
              "      padding: 0 0 0 0;\n",
              "      width: 32px;\n",
              "    }\n",
              "\n",
              "    .colab-df-convert:hover {\n",
              "      background-color: #E2EBFA;\n",
              "      box-shadow: 0px 1px 2px rgba(60, 64, 67, 0.3), 0px 1px 3px 1px rgba(60, 64, 67, 0.15);\n",
              "      fill: #174EA6;\n",
              "    }\n",
              "\n",
              "    [theme=dark] .colab-df-convert {\n",
              "      background-color: #3B4455;\n",
              "      fill: #D2E3FC;\n",
              "    }\n",
              "\n",
              "    [theme=dark] .colab-df-convert:hover {\n",
              "      background-color: #434B5C;\n",
              "      box-shadow: 0px 1px 3px 1px rgba(0, 0, 0, 0.15);\n",
              "      filter: drop-shadow(0px 1px 2px rgba(0, 0, 0, 0.3));\n",
              "      fill: #FFFFFF;\n",
              "    }\n",
              "  </style>\n",
              "\n",
              "      <script>\n",
              "        const buttonEl =\n",
              "          document.querySelector('#df-84783ebb-0bc5-4f55-b2e0-8899e4ff38f6 button.colab-df-convert');\n",
              "        buttonEl.style.display =\n",
              "          google.colab.kernel.accessAllowed ? 'block' : 'none';\n",
              "\n",
              "        async function convertToInteractive(key) {\n",
              "          const element = document.querySelector('#df-84783ebb-0bc5-4f55-b2e0-8899e4ff38f6');\n",
              "          const dataTable =\n",
              "            await google.colab.kernel.invokeFunction('convertToInteractive',\n",
              "                                                     [key], {});\n",
              "          if (!dataTable) return;\n",
              "\n",
              "          const docLinkHtml = 'Like what you see? Visit the ' +\n",
              "            '<a target=\"_blank\" href=https://colab.research.google.com/notebooks/data_table.ipynb>data table notebook</a>'\n",
              "            + ' to learn more about interactive tables.';\n",
              "          element.innerHTML = '';\n",
              "          dataTable['output_type'] = 'display_data';\n",
              "          await google.colab.output.renderOutput(dataTable, element);\n",
              "          const docLink = document.createElement('div');\n",
              "          docLink.innerHTML = docLinkHtml;\n",
              "          element.appendChild(docLink);\n",
              "        }\n",
              "      </script>\n",
              "    </div>\n",
              "  </div>\n",
              "  "
            ]
          },
          "metadata": {},
          "execution_count": 10
        }
      ]
    },
    {
      "cell_type": "code",
      "source": [
        "lis = ['Glucose','BloodPressure','BMI','Age']\n",
        "def standartization(x):\n",
        "    x_std = x.copy(deep=True)\n",
        "    for column in lis:\n",
        "        x_std[column] = (x_std[column] - x_std[column].mean()) / x_std[column].std() \n",
        "    return x_std\n",
        "\n",
        "data = standartization(data)\n",
        "data.head()"
      ],
      "metadata": {
        "colab": {
          "base_uri": "https://localhost:8080/",
          "height": 206
        },
        "id": "cPGdNoE3tdsO",
        "outputId": "86f799d1-098c-4546-dd74-23dfe0248efd"
      },
      "execution_count": null,
      "outputs": [
        {
          "output_type": "execute_result",
          "data": {
            "text/plain": [
              "    Glucose  BloodPressure  Insulin       BMI       Age  Outcome\n",
              "0  0.847771       0.149543        0  0.203880  1.425067        1\n",
              "1 -1.122665      -0.160441        0 -0.683976 -0.190548        0\n",
              "2  1.942458      -0.263769        0 -1.102537 -0.105515        1\n",
              "3 -0.997558      -0.160441       94 -0.493721 -1.040871        0\n",
              "4  0.503727      -1.503707      168  1.408828 -0.020483        1"
            ],
            "text/html": [
              "\n",
              "  <div id=\"df-d8b7517e-226a-4d74-a268-eb7f256a9c12\">\n",
              "    <div class=\"colab-df-container\">\n",
              "      <div>\n",
              "<style scoped>\n",
              "    .dataframe tbody tr th:only-of-type {\n",
              "        vertical-align: middle;\n",
              "    }\n",
              "\n",
              "    .dataframe tbody tr th {\n",
              "        vertical-align: top;\n",
              "    }\n",
              "\n",
              "    .dataframe thead th {\n",
              "        text-align: right;\n",
              "    }\n",
              "</style>\n",
              "<table border=\"1\" class=\"dataframe\">\n",
              "  <thead>\n",
              "    <tr style=\"text-align: right;\">\n",
              "      <th></th>\n",
              "      <th>Glucose</th>\n",
              "      <th>BloodPressure</th>\n",
              "      <th>Insulin</th>\n",
              "      <th>BMI</th>\n",
              "      <th>Age</th>\n",
              "      <th>Outcome</th>\n",
              "    </tr>\n",
              "  </thead>\n",
              "  <tbody>\n",
              "    <tr>\n",
              "      <th>0</th>\n",
              "      <td>0.847771</td>\n",
              "      <td>0.149543</td>\n",
              "      <td>0</td>\n",
              "      <td>0.203880</td>\n",
              "      <td>1.425067</td>\n",
              "      <td>1</td>\n",
              "    </tr>\n",
              "    <tr>\n",
              "      <th>1</th>\n",
              "      <td>-1.122665</td>\n",
              "      <td>-0.160441</td>\n",
              "      <td>0</td>\n",
              "      <td>-0.683976</td>\n",
              "      <td>-0.190548</td>\n",
              "      <td>0</td>\n",
              "    </tr>\n",
              "    <tr>\n",
              "      <th>2</th>\n",
              "      <td>1.942458</td>\n",
              "      <td>-0.263769</td>\n",
              "      <td>0</td>\n",
              "      <td>-1.102537</td>\n",
              "      <td>-0.105515</td>\n",
              "      <td>1</td>\n",
              "    </tr>\n",
              "    <tr>\n",
              "      <th>3</th>\n",
              "      <td>-0.997558</td>\n",
              "      <td>-0.160441</td>\n",
              "      <td>94</td>\n",
              "      <td>-0.493721</td>\n",
              "      <td>-1.040871</td>\n",
              "      <td>0</td>\n",
              "    </tr>\n",
              "    <tr>\n",
              "      <th>4</th>\n",
              "      <td>0.503727</td>\n",
              "      <td>-1.503707</td>\n",
              "      <td>168</td>\n",
              "      <td>1.408828</td>\n",
              "      <td>-0.020483</td>\n",
              "      <td>1</td>\n",
              "    </tr>\n",
              "  </tbody>\n",
              "</table>\n",
              "</div>\n",
              "      <button class=\"colab-df-convert\" onclick=\"convertToInteractive('df-d8b7517e-226a-4d74-a268-eb7f256a9c12')\"\n",
              "              title=\"Convert this dataframe to an interactive table.\"\n",
              "              style=\"display:none;\">\n",
              "        \n",
              "  <svg xmlns=\"http://www.w3.org/2000/svg\" height=\"24px\"viewBox=\"0 0 24 24\"\n",
              "       width=\"24px\">\n",
              "    <path d=\"M0 0h24v24H0V0z\" fill=\"none\"/>\n",
              "    <path d=\"M18.56 5.44l.94 2.06.94-2.06 2.06-.94-2.06-.94-.94-2.06-.94 2.06-2.06.94zm-11 1L8.5 8.5l.94-2.06 2.06-.94-2.06-.94L8.5 2.5l-.94 2.06-2.06.94zm10 10l.94 2.06.94-2.06 2.06-.94-2.06-.94-.94-2.06-.94 2.06-2.06.94z\"/><path d=\"M17.41 7.96l-1.37-1.37c-.4-.4-.92-.59-1.43-.59-.52 0-1.04.2-1.43.59L10.3 9.45l-7.72 7.72c-.78.78-.78 2.05 0 2.83L4 21.41c.39.39.9.59 1.41.59.51 0 1.02-.2 1.41-.59l7.78-7.78 2.81-2.81c.8-.78.8-2.07 0-2.86zM5.41 20L4 18.59l7.72-7.72 1.47 1.35L5.41 20z\"/>\n",
              "  </svg>\n",
              "      </button>\n",
              "      \n",
              "  <style>\n",
              "    .colab-df-container {\n",
              "      display:flex;\n",
              "      flex-wrap:wrap;\n",
              "      gap: 12px;\n",
              "    }\n",
              "\n",
              "    .colab-df-convert {\n",
              "      background-color: #E8F0FE;\n",
              "      border: none;\n",
              "      border-radius: 50%;\n",
              "      cursor: pointer;\n",
              "      display: none;\n",
              "      fill: #1967D2;\n",
              "      height: 32px;\n",
              "      padding: 0 0 0 0;\n",
              "      width: 32px;\n",
              "    }\n",
              "\n",
              "    .colab-df-convert:hover {\n",
              "      background-color: #E2EBFA;\n",
              "      box-shadow: 0px 1px 2px rgba(60, 64, 67, 0.3), 0px 1px 3px 1px rgba(60, 64, 67, 0.15);\n",
              "      fill: #174EA6;\n",
              "    }\n",
              "\n",
              "    [theme=dark] .colab-df-convert {\n",
              "      background-color: #3B4455;\n",
              "      fill: #D2E3FC;\n",
              "    }\n",
              "\n",
              "    [theme=dark] .colab-df-convert:hover {\n",
              "      background-color: #434B5C;\n",
              "      box-shadow: 0px 1px 3px 1px rgba(0, 0, 0, 0.15);\n",
              "      filter: drop-shadow(0px 1px 2px rgba(0, 0, 0, 0.3));\n",
              "      fill: #FFFFFF;\n",
              "    }\n",
              "  </style>\n",
              "\n",
              "      <script>\n",
              "        const buttonEl =\n",
              "          document.querySelector('#df-d8b7517e-226a-4d74-a268-eb7f256a9c12 button.colab-df-convert');\n",
              "        buttonEl.style.display =\n",
              "          google.colab.kernel.accessAllowed ? 'block' : 'none';\n",
              "\n",
              "        async function convertToInteractive(key) {\n",
              "          const element = document.querySelector('#df-d8b7517e-226a-4d74-a268-eb7f256a9c12');\n",
              "          const dataTable =\n",
              "            await google.colab.kernel.invokeFunction('convertToInteractive',\n",
              "                                                     [key], {});\n",
              "          if (!dataTable) return;\n",
              "\n",
              "          const docLinkHtml = 'Like what you see? Visit the ' +\n",
              "            '<a target=\"_blank\" href=https://colab.research.google.com/notebooks/data_table.ipynb>data table notebook</a>'\n",
              "            + ' to learn more about interactive tables.';\n",
              "          element.innerHTML = '';\n",
              "          dataTable['output_type'] = 'display_data';\n",
              "          await google.colab.output.renderOutput(dataTable, element);\n",
              "          const docLink = document.createElement('div');\n",
              "          docLink.innerHTML = docLinkHtml;\n",
              "          element.appendChild(docLink);\n",
              "        }\n",
              "      </script>\n",
              "    </div>\n",
              "  </div>\n",
              "  "
            ]
          },
          "metadata": {},
          "execution_count": 11
        }
      ]
    },
    {
      "cell_type": "code",
      "source": [
        "data.info()"
      ],
      "metadata": {
        "colab": {
          "base_uri": "https://localhost:8080/"
        },
        "id": "ndT2CVemttvV",
        "outputId": "30be6560-957f-453a-a129-802b86828241"
      },
      "execution_count": null,
      "outputs": [
        {
          "output_type": "stream",
          "name": "stdout",
          "text": [
            "<class 'pandas.core.frame.DataFrame'>\n",
            "Int64Index: 768 entries, 0 to 767\n",
            "Data columns (total 6 columns):\n",
            " #   Column         Non-Null Count  Dtype  \n",
            "---  ------         --------------  -----  \n",
            " 0   Glucose        768 non-null    float64\n",
            " 1   BloodPressure  768 non-null    float64\n",
            " 2   Insulin        768 non-null    int64  \n",
            " 3   BMI            768 non-null    float64\n",
            " 4   Age            768 non-null    float64\n",
            " 5   Outcome        768 non-null    int64  \n",
            "dtypes: float64(4), int64(2)\n",
            "memory usage: 42.0 KB\n"
          ]
        }
      ]
    },
    {
      "cell_type": "code",
      "source": [
        "data['Outcome'].value_counts()"
      ],
      "metadata": {
        "colab": {
          "base_uri": "https://localhost:8080/"
        },
        "id": "0nF0RXbOt-fc",
        "outputId": "4bc5e9b6-88e1-468b-bc8f-556ca6482de2"
      },
      "execution_count": null,
      "outputs": [
        {
          "output_type": "execute_result",
          "data": {
            "text/plain": [
              "0    500\n",
              "1    268\n",
              "Name: Outcome, dtype: int64"
            ]
          },
          "metadata": {},
          "execution_count": 13
        }
      ]
    },
    {
      "cell_type": "code",
      "source": [
        "y=data['Outcome']\n",
        "x=data.drop(['Outcome'],axis=1)"
      ],
      "metadata": {
        "id": "OEGp5eSnuNo8"
      },
      "execution_count": null,
      "outputs": []
    },
    {
      "cell_type": "code",
      "source": [
        "x.shape"
      ],
      "metadata": {
        "colab": {
          "base_uri": "https://localhost:8080/"
        },
        "id": "wJm9txR4WtyA",
        "outputId": "a6fefde5-c426-4ae5-e296-797208e4f57d"
      },
      "execution_count": null,
      "outputs": [
        {
          "output_type": "execute_result",
          "data": {
            "text/plain": [
              "(768, 5)"
            ]
          },
          "metadata": {},
          "execution_count": 15
        }
      ]
    },
    {
      "cell_type": "code",
      "source": [
        "y.shape"
      ],
      "metadata": {
        "colab": {
          "base_uri": "https://localhost:8080/"
        },
        "id": "DtWVGG9xXFSI",
        "outputId": "1ceee194-e449-4639-e582-837873f78824"
      },
      "execution_count": null,
      "outputs": [
        {
          "output_type": "execute_result",
          "data": {
            "text/plain": [
              "(768,)"
            ]
          },
          "metadata": {},
          "execution_count": 16
        }
      ]
    },
    {
      "cell_type": "code",
      "source": [
        "yn=data_norm['Outcome']\n",
        "xn=data_norm.drop(['Outcome'],axis=1)"
      ],
      "metadata": {
        "id": "wNZ-doQzuQ9m"
      },
      "execution_count": null,
      "outputs": []
    },
    {
      "cell_type": "markdown",
      "source": [
        "I am creating separate train and test sets for standardised and normalised data. the ones having n as suffix are normalised."
      ],
      "metadata": {
        "id": "1SOPVxBSuan0"
      }
    },
    {
      "cell_type": "code",
      "source": [
        "xtrain,xtest,ytrain,ytest= train_test_split(x,y,test_size=0.15,stratify=y)\n",
        "print(\"Xtrain :- \" + str(xtrain.shape) + \"\\n\" + \"Xtest :- \" + str(xtest.shape) + \"\\n\" + \"Ytrain :- \" + str(ytrain.shape) + \"\\n\" + \"Ytest :- \" + str(ytest.shape))"
      ],
      "metadata": {
        "colab": {
          "base_uri": "https://localhost:8080/"
        },
        "id": "zTQ7NUyfucoU",
        "outputId": "ac0fe108-11b3-48f3-896b-fc4c6e6c2351"
      },
      "execution_count": null,
      "outputs": [
        {
          "output_type": "stream",
          "name": "stdout",
          "text": [
            "Xtrain :- (652, 5)\n",
            "Xtest :- (116, 5)\n",
            "Ytrain :- (652,)\n",
            "Ytest :- (116,)\n"
          ]
        }
      ]
    },
    {
      "cell_type": "code",
      "source": [
        "xntrain,xntest,yntrain,yntest= train_test_split(xn,yn,test_size=0.15,stratify=y)\n",
        "print(\"Xntrain :- \" + str(xntrain.shape) + \"\\n\" + \"Xntest :- \" + str(xntest.shape) + \"\\n\" + \"Yntrain :- \" + str(yntrain.shape) + \"\\n\" + \"Yntest :- \" + str(yntest.shape))"
      ],
      "metadata": {
        "colab": {
          "base_uri": "https://localhost:8080/"
        },
        "id": "uUviit72vI7E",
        "outputId": "66d5e5b6-8df3-48e8-c282-62830511535c"
      },
      "execution_count": null,
      "outputs": [
        {
          "output_type": "stream",
          "name": "stdout",
          "text": [
            "Xntrain :- (652, 5)\n",
            "Xntest :- (116, 5)\n",
            "Yntrain :- (652,)\n",
            "Yntest :- (116,)\n"
          ]
        }
      ]
    },
    {
      "cell_type": "code",
      "source": [
        "model = Sequential()\n",
        "model.add(Dense(256,activation='relu',input_shape=([5])))\n",
        "model.add(Dense(256,activation='relu'))\n",
        "model.add(Dense(1,activation='sigmoid'))\n",
        "model.summary()\n",
        "model.compile(optimizer='adam',loss='binary_crossentropy',metrics=['accuracy'])"
      ],
      "metadata": {
        "colab": {
          "base_uri": "https://localhost:8080/"
        },
        "id": "ihhsDsqr7TLl",
        "outputId": "719b0282-7e9f-4899-ddb7-166ad17c2502"
      },
      "execution_count": null,
      "outputs": [
        {
          "output_type": "stream",
          "name": "stdout",
          "text": [
            "Model: \"sequential\"\n",
            "_________________________________________________________________\n",
            " Layer (type)                Output Shape              Param #   \n",
            "=================================================================\n",
            " dense (Dense)               (None, 256)               1536      \n",
            "                                                                 \n",
            " dense_1 (Dense)             (None, 256)               65792     \n",
            "                                                                 \n",
            " dense_2 (Dense)             (None, 1)                 257       \n",
            "                                                                 \n",
            "=================================================================\n",
            "Total params: 67,585\n",
            "Trainable params: 67,585\n",
            "Non-trainable params: 0\n",
            "_________________________________________________________________\n"
          ]
        }
      ]
    },
    {
      "cell_type": "code",
      "source": [
        "ytest"
      ],
      "metadata": {
        "colab": {
          "base_uri": "https://localhost:8080/"
        },
        "id": "4d5wc-GI7YmF",
        "outputId": "52098c85-694a-4cab-87eb-77f0b6c22020"
      },
      "execution_count": null,
      "outputs": [
        {
          "output_type": "execute_result",
          "data": {
            "text/plain": [
              "176    0\n",
              "765    0\n",
              "727    0\n",
              "487    0\n",
              "590    1\n",
              "      ..\n",
              "637    0\n",
              "101    0\n",
              "427    1\n",
              "503    0\n",
              "249    0\n",
              "Name: Outcome, Length: 116, dtype: int64"
            ]
          },
          "metadata": {},
          "execution_count": 21
        }
      ]
    },
    {
      "cell_type": "code",
      "source": [
        "nepochs = 50\n",
        "history = model.fit(xtrain ,\n",
        "                    ytrain ,\n",
        "                    epochs= nepochs ,\n",
        "                    steps_per_epoch=200,\n",
        "                    validation_data=(xtest ,ytest))"
      ],
      "metadata": {
        "colab": {
          "base_uri": "https://localhost:8080/"
        },
        "id": "KHL7zIOm7eGs",
        "outputId": "b80af2d3-a4c5-4cc6-8a2f-988fd6cfe4ff"
      },
      "execution_count": null,
      "outputs": [
        {
          "output_type": "stream",
          "name": "stdout",
          "text": [
            "Epoch 1/50\n",
            "200/200 [==============================] - 2s 4ms/step - loss: 1.7172 - accuracy: 0.6787 - val_loss: 0.5934 - val_accuracy: 0.7414\n",
            "Epoch 2/50\n",
            "200/200 [==============================] - 1s 3ms/step - loss: 1.5212 - accuracy: 0.6475 - val_loss: 0.6045 - val_accuracy: 0.6897\n",
            "Epoch 3/50\n",
            "200/200 [==============================] - 1s 3ms/step - loss: 0.7253 - accuracy: 0.7275 - val_loss: 0.7329 - val_accuracy: 0.7069\n",
            "Epoch 4/50\n",
            "200/200 [==============================] - 1s 3ms/step - loss: 0.7150 - accuracy: 0.7200 - val_loss: 0.5440 - val_accuracy: 0.7500\n",
            "Epoch 5/50\n",
            "200/200 [==============================] - 1s 3ms/step - loss: 0.6805 - accuracy: 0.7375 - val_loss: 0.4717 - val_accuracy: 0.7759\n",
            "Epoch 6/50\n",
            "200/200 [==============================] - 1s 3ms/step - loss: 0.6304 - accuracy: 0.7412 - val_loss: 0.4769 - val_accuracy: 0.7759\n",
            "Epoch 7/50\n",
            "200/200 [==============================] - 1s 3ms/step - loss: 0.5811 - accuracy: 0.7387 - val_loss: 0.6037 - val_accuracy: 0.7241\n",
            "Epoch 8/50\n",
            "200/200 [==============================] - 1s 3ms/step - loss: 0.5627 - accuracy: 0.7525 - val_loss: 1.2612 - val_accuracy: 0.5862\n",
            "Epoch 9/50\n",
            "200/200 [==============================] - 1s 3ms/step - loss: 0.6341 - accuracy: 0.7400 - val_loss: 0.6513 - val_accuracy: 0.7155\n",
            "Epoch 10/50\n",
            "200/200 [==============================] - 1s 3ms/step - loss: 0.5544 - accuracy: 0.7538 - val_loss: 0.4947 - val_accuracy: 0.7759\n",
            "Epoch 11/50\n",
            "200/200 [==============================] - 1s 3ms/step - loss: 0.5233 - accuracy: 0.7613 - val_loss: 0.4911 - val_accuracy: 0.7845\n",
            "Epoch 12/50\n",
            "200/200 [==============================] - 1s 3ms/step - loss: 0.5509 - accuracy: 0.7300 - val_loss: 0.5613 - val_accuracy: 0.7414\n",
            "Epoch 13/50\n",
            "200/200 [==============================] - 1s 3ms/step - loss: 0.5111 - accuracy: 0.7575 - val_loss: 0.4971 - val_accuracy: 0.7500\n",
            "Epoch 14/50\n",
            "200/200 [==============================] - 1s 3ms/step - loss: 0.4516 - accuracy: 0.7775 - val_loss: 0.5429 - val_accuracy: 0.7586\n",
            "Epoch 15/50\n",
            "200/200 [==============================] - 1s 5ms/step - loss: 0.4595 - accuracy: 0.7837 - val_loss: 0.4910 - val_accuracy: 0.7845\n",
            "Epoch 16/50\n",
            "200/200 [==============================] - 1s 5ms/step - loss: 0.4888 - accuracy: 0.7513 - val_loss: 0.4876 - val_accuracy: 0.7845\n",
            "Epoch 17/50\n",
            "200/200 [==============================] - 1s 5ms/step - loss: 0.4347 - accuracy: 0.7987 - val_loss: 0.5168 - val_accuracy: 0.7931\n",
            "Epoch 18/50\n",
            "200/200 [==============================] - 1s 5ms/step - loss: 0.4540 - accuracy: 0.7788 - val_loss: 0.5184 - val_accuracy: 0.7931\n",
            "Epoch 19/50\n",
            "200/200 [==============================] - 1s 4ms/step - loss: 0.4480 - accuracy: 0.7738 - val_loss: 0.6284 - val_accuracy: 0.7500\n",
            "Epoch 20/50\n",
            "200/200 [==============================] - 1s 3ms/step - loss: 0.4404 - accuracy: 0.7812 - val_loss: 0.5402 - val_accuracy: 0.7931\n",
            "Epoch 21/50\n",
            "200/200 [==============================] - 1s 3ms/step - loss: 0.4228 - accuracy: 0.7937 - val_loss: 0.5501 - val_accuracy: 0.7500\n",
            "Epoch 22/50\n",
            "200/200 [==============================] - 1s 3ms/step - loss: 0.4230 - accuracy: 0.7925 - val_loss: 0.5677 - val_accuracy: 0.7586\n",
            "Epoch 23/50\n",
            "200/200 [==============================] - 1s 3ms/step - loss: 0.4286 - accuracy: 0.8000 - val_loss: 0.5582 - val_accuracy: 0.7328\n",
            "Epoch 24/50\n",
            "200/200 [==============================] - 1s 3ms/step - loss: 0.4172 - accuracy: 0.8012 - val_loss: 0.6244 - val_accuracy: 0.7414\n",
            "Epoch 25/50\n",
            "200/200 [==============================] - 1s 3ms/step - loss: 0.4258 - accuracy: 0.8000 - val_loss: 0.5690 - val_accuracy: 0.7586\n",
            "Epoch 26/50\n",
            "200/200 [==============================] - 1s 3ms/step - loss: 0.4091 - accuracy: 0.7887 - val_loss: 0.5826 - val_accuracy: 0.7931\n",
            "Epoch 27/50\n",
            "200/200 [==============================] - 1s 3ms/step - loss: 0.3952 - accuracy: 0.8163 - val_loss: 0.5891 - val_accuracy: 0.7845\n",
            "Epoch 28/50\n",
            "200/200 [==============================] - 1s 3ms/step - loss: 0.4218 - accuracy: 0.8000 - val_loss: 0.5711 - val_accuracy: 0.7931\n",
            "Epoch 29/50\n",
            "200/200 [==============================] - 1s 3ms/step - loss: 0.4110 - accuracy: 0.7937 - val_loss: 0.6456 - val_accuracy: 0.7241\n",
            "Epoch 30/50\n",
            "200/200 [==============================] - 1s 3ms/step - loss: 0.3937 - accuracy: 0.8138 - val_loss: 0.5934 - val_accuracy: 0.7672\n",
            "Epoch 31/50\n",
            "200/200 [==============================] - 1s 3ms/step - loss: 0.3874 - accuracy: 0.8150 - val_loss: 0.6023 - val_accuracy: 0.7500\n",
            "Epoch 32/50\n",
            "200/200 [==============================] - 1s 3ms/step - loss: 0.3882 - accuracy: 0.8213 - val_loss: 0.5975 - val_accuracy: 0.7931\n",
            "Epoch 33/50\n",
            "200/200 [==============================] - 1s 3ms/step - loss: 0.3803 - accuracy: 0.8300 - val_loss: 0.6521 - val_accuracy: 0.7500\n",
            "Epoch 34/50\n",
            "200/200 [==============================] - 1s 3ms/step - loss: 0.3669 - accuracy: 0.8150 - val_loss: 0.6185 - val_accuracy: 0.7845\n",
            "Epoch 35/50\n",
            "200/200 [==============================] - 1s 4ms/step - loss: 0.3827 - accuracy: 0.8225 - val_loss: 0.6455 - val_accuracy: 0.7586\n",
            "Epoch 36/50\n",
            "200/200 [==============================] - 1s 5ms/step - loss: 0.3582 - accuracy: 0.8300 - val_loss: 0.6120 - val_accuracy: 0.7931\n",
            "Epoch 37/50\n",
            "200/200 [==============================] - 1s 5ms/step - loss: 0.3714 - accuracy: 0.8288 - val_loss: 0.6389 - val_accuracy: 0.7672\n",
            "Epoch 38/50\n",
            "200/200 [==============================] - 1s 5ms/step - loss: 0.3682 - accuracy: 0.8325 - val_loss: 0.6622 - val_accuracy: 0.7500\n",
            "Epoch 39/50\n",
            "200/200 [==============================] - 1s 5ms/step - loss: 0.3877 - accuracy: 0.8050 - val_loss: 0.6971 - val_accuracy: 0.7328\n",
            "Epoch 40/50\n",
            "200/200 [==============================] - 1s 3ms/step - loss: 0.3637 - accuracy: 0.8300 - val_loss: 0.6696 - val_accuracy: 0.7414\n",
            "Epoch 41/50\n",
            "140/200 [====================>.........] - ETA: 0s - loss: 0.3718 - accuracy: 0.8321"
          ]
        },
        {
          "output_type": "stream",
          "name": "stderr",
          "text": [
            "WARNING:tensorflow:Your input ran out of data; interrupting training. Make sure that your dataset or generator can generate at least `steps_per_epoch * epochs` batches (in this case, 10000 batches). You may need to use the repeat() function when building your dataset.\n"
          ]
        },
        {
          "output_type": "stream",
          "name": "stdout",
          "text": [
            "\b\b\b\b\b\b\b\b\b\b\b\b\b\b\b\b\b\b\b\b\b\b\b\b\b\b\b\b\b\b\b\b\b\b\b\b\b\b\b\b\b\b\b\b\b\b\b\b\b\b\b\b\b\b\b\b\b\b\b\b\b\b\b\b\b\b\b\b\b\b\b\b\b\b\b\b\b\b\b\b\b\b\b\b\r200/200 [==============================] - 1s 4ms/step - loss: 0.3722 - accuracy: 0.8317 - val_loss: 0.7537 - val_accuracy: 0.7155\n"
          ]
        }
      ]
    },
    {
      "cell_type": "code",
      "source": [
        "model.evaluate(xtrain,ytrain)"
      ],
      "metadata": {
        "colab": {
          "base_uri": "https://localhost:8080/"
        },
        "id": "WVeTctvY9gLy",
        "outputId": "26453bde-03a8-4655-9997-fce2f53b4951"
      },
      "execution_count": null,
      "outputs": [
        {
          "output_type": "stream",
          "name": "stdout",
          "text": [
            "21/21 [==============================] - 0s 2ms/step - loss: 0.3841 - accuracy: 0.8083\n"
          ]
        },
        {
          "output_type": "execute_result",
          "data": {
            "text/plain": [
              "[0.38407522439956665, 0.808282196521759]"
            ]
          },
          "metadata": {},
          "execution_count": 23
        }
      ]
    },
    {
      "cell_type": "code",
      "source": [
        "model.evaluate(xtest,ytest)"
      ],
      "metadata": {
        "colab": {
          "base_uri": "https://localhost:8080/"
        },
        "id": "DQNDjyk39qaK",
        "outputId": "fc289709-c866-4f07-a42b-71348ece275d"
      },
      "execution_count": null,
      "outputs": [
        {
          "output_type": "stream",
          "name": "stdout",
          "text": [
            "4/4 [==============================] - 0s 4ms/step - loss: 0.7537 - accuracy: 0.7155\n"
          ]
        },
        {
          "output_type": "execute_result",
          "data": {
            "text/plain": [
              "[0.7537275552749634, 0.7155172228813171]"
            ]
          },
          "metadata": {},
          "execution_count": 24
        }
      ]
    },
    {
      "cell_type": "markdown",
      "source": [
        "As you can see, the ANN produced 68% test accuracy which is way less than SVM. Hence we can say that the ML algorithm produced well than that of DL algorithm. Can we stop with this conclusion or are we missing something??"
      ],
      "metadata": {
        "id": "HsZ4fV_69yZD"
      }
    },
    {
      "cell_type": "code",
      "source": [
        "print(data['Outcome'].value_counts())\n",
        "df_class_0 = data[data['Outcome'] == 0]\n",
        "df_class_1 = data[data['Outcome'] == 1]"
      ],
      "metadata": {
        "colab": {
          "base_uri": "https://localhost:8080/"
        },
        "id": "9q5PnRBg9zlN",
        "outputId": "475a62fc-30af-4a30-f36a-5c54cdc79643"
      },
      "execution_count": null,
      "outputs": [
        {
          "output_type": "stream",
          "name": "stdout",
          "text": [
            "0    500\n",
            "1    268\n",
            "Name: Outcome, dtype: int64\n"
          ]
        }
      ]
    },
    {
      "cell_type": "markdown",
      "source": [
        "As you can see, there is class imbalance, the amount of diabetes negative is twice than that of diabetes positive. In this scenario, we cant compare the performance of algorithms based on accuracy. So to overcome the class imbalance I oversampled the minority class to the samples of majority class (500). So the total data consits of 1000 samples with equal distribution. I repeated this process for the standardised and normalized datasets.\n"
      ],
      "metadata": {
        "id": "zs3BcHaP-B81"
      }
    },
    {
      "cell_type": "markdown",
      "source": [
        "There isn't much change in the accuracy of the algorithm but there is huge improvement in the classification report before and after sampling, especially for the diabetes class."
      ],
      "metadata": {
        "id": "hlOKSFI5-q57"
      }
    },
    {
      "cell_type": "code",
      "source": [
        "nepochs = 50\n",
        "history = model.fit(xntrain ,\n",
        "                    yntrain ,\n",
        "                    epochs= nepochs ,\n",
        "                    steps_per_epoch=200,\n",
        "                    validation_data=(xntest ,yntest))"
      ],
      "metadata": {
        "colab": {
          "base_uri": "https://localhost:8080/"
        },
        "id": "zA3F0Rv57gAE",
        "outputId": "21c90240-5f3a-4b91-e5c8-474b8bc5c2df"
      },
      "execution_count": null,
      "outputs": [
        {
          "output_type": "stream",
          "name": "stdout",
          "text": [
            "Epoch 1/50\n",
            "200/200 [==============================] - 1s 4ms/step - loss: 0.5210 - accuracy: 0.7387 - val_loss: 0.5525 - val_accuracy: 0.7328\n",
            "Epoch 2/50\n",
            "200/200 [==============================] - 1s 3ms/step - loss: 0.4967 - accuracy: 0.7638 - val_loss: 0.4749 - val_accuracy: 0.7414\n",
            "Epoch 3/50\n",
            "200/200 [==============================] - 1s 3ms/step - loss: 0.4917 - accuracy: 0.7700 - val_loss: 0.4926 - val_accuracy: 0.7328\n",
            "Epoch 4/50\n",
            "200/200 [==============================] - 1s 3ms/step - loss: 0.4522 - accuracy: 0.7950 - val_loss: 0.4811 - val_accuracy: 0.7241\n",
            "Epoch 5/50\n",
            "200/200 [==============================] - 1s 3ms/step - loss: 0.4675 - accuracy: 0.7788 - val_loss: 0.4951 - val_accuracy: 0.7586\n",
            "Epoch 6/50\n",
            "200/200 [==============================] - 1s 3ms/step - loss: 0.4692 - accuracy: 0.7725 - val_loss: 0.4823 - val_accuracy: 0.7241\n",
            "Epoch 7/50\n",
            "200/200 [==============================] - 1s 3ms/step - loss: 0.4573 - accuracy: 0.7937 - val_loss: 0.4740 - val_accuracy: 0.7500\n",
            "Epoch 8/50\n",
            "200/200 [==============================] - 1s 3ms/step - loss: 0.4707 - accuracy: 0.7675 - val_loss: 0.5037 - val_accuracy: 0.7328\n",
            "Epoch 9/50\n",
            "200/200 [==============================] - 1s 3ms/step - loss: 0.4597 - accuracy: 0.7788 - val_loss: 0.4669 - val_accuracy: 0.7500\n",
            "Epoch 10/50\n",
            "200/200 [==============================] - 1s 3ms/step - loss: 0.4418 - accuracy: 0.7925 - val_loss: 0.5084 - val_accuracy: 0.7155\n",
            "Epoch 11/50\n",
            "200/200 [==============================] - 1s 3ms/step - loss: 0.4605 - accuracy: 0.7887 - val_loss: 0.5013 - val_accuracy: 0.7241\n",
            "Epoch 12/50\n",
            "200/200 [==============================] - 1s 4ms/step - loss: 0.4595 - accuracy: 0.7675 - val_loss: 0.4882 - val_accuracy: 0.7155\n",
            "Epoch 13/50\n",
            "200/200 [==============================] - 1s 5ms/step - loss: 0.4554 - accuracy: 0.7750 - val_loss: 0.4772 - val_accuracy: 0.7500\n",
            "Epoch 14/50\n",
            "200/200 [==============================] - 1s 5ms/step - loss: 0.4446 - accuracy: 0.7937 - val_loss: 0.4909 - val_accuracy: 0.7328\n",
            "Epoch 15/50\n",
            "200/200 [==============================] - 1s 5ms/step - loss: 0.4459 - accuracy: 0.7900 - val_loss: 0.4914 - val_accuracy: 0.7241\n",
            "Epoch 16/50\n",
            "200/200 [==============================] - 1s 5ms/step - loss: 0.4665 - accuracy: 0.7725 - val_loss: 0.4857 - val_accuracy: 0.7328\n",
            "Epoch 17/50\n",
            "200/200 [==============================] - 1s 3ms/step - loss: 0.4347 - accuracy: 0.8025 - val_loss: 0.4953 - val_accuracy: 0.7328\n",
            "Epoch 18/50\n",
            "200/200 [==============================] - 1s 3ms/step - loss: 0.4445 - accuracy: 0.7750 - val_loss: 0.5168 - val_accuracy: 0.7241\n",
            "Epoch 19/50\n",
            "200/200 [==============================] - 1s 3ms/step - loss: 0.4516 - accuracy: 0.7775 - val_loss: 0.4899 - val_accuracy: 0.7414\n",
            "Epoch 20/50\n",
            "200/200 [==============================] - 1s 5ms/step - loss: 0.4578 - accuracy: 0.7788 - val_loss: 0.4826 - val_accuracy: 0.7500\n",
            "Epoch 21/50\n",
            "200/200 [==============================] - 1s 4ms/step - loss: 0.4218 - accuracy: 0.7962 - val_loss: 0.4771 - val_accuracy: 0.7414\n",
            "Epoch 22/50\n",
            "200/200 [==============================] - 1s 3ms/step - loss: 0.4441 - accuracy: 0.7788 - val_loss: 0.4889 - val_accuracy: 0.7414\n",
            "Epoch 23/50\n",
            "200/200 [==============================] - 1s 3ms/step - loss: 0.4461 - accuracy: 0.7750 - val_loss: 0.4822 - val_accuracy: 0.7328\n",
            "Epoch 24/50\n",
            "200/200 [==============================] - 1s 3ms/step - loss: 0.4381 - accuracy: 0.7950 - val_loss: 0.4916 - val_accuracy: 0.7328\n",
            "Epoch 25/50\n",
            "200/200 [==============================] - 1s 3ms/step - loss: 0.4138 - accuracy: 0.7900 - val_loss: 0.4927 - val_accuracy: 0.7241\n",
            "Epoch 26/50\n",
            "200/200 [==============================] - 1s 3ms/step - loss: 0.4390 - accuracy: 0.7987 - val_loss: 0.4729 - val_accuracy: 0.7500\n",
            "Epoch 27/50\n",
            "200/200 [==============================] - 1s 3ms/step - loss: 0.4356 - accuracy: 0.7900 - val_loss: 0.4979 - val_accuracy: 0.7328\n",
            "Epoch 28/50\n",
            "200/200 [==============================] - 1s 3ms/step - loss: 0.4288 - accuracy: 0.7937 - val_loss: 0.4738 - val_accuracy: 0.7414\n",
            "Epoch 29/50\n",
            "200/200 [==============================] - 1s 3ms/step - loss: 0.4282 - accuracy: 0.8012 - val_loss: 0.5276 - val_accuracy: 0.7414\n",
            "Epoch 30/50\n",
            "200/200 [==============================] - 1s 3ms/step - loss: 0.4233 - accuracy: 0.7950 - val_loss: 0.4750 - val_accuracy: 0.7586\n",
            "Epoch 31/50\n",
            "200/200 [==============================] - 1s 4ms/step - loss: 0.4436 - accuracy: 0.7875 - val_loss: 0.4789 - val_accuracy: 0.7328\n",
            "Epoch 32/50\n",
            "200/200 [==============================] - 1s 5ms/step - loss: 0.4270 - accuracy: 0.7862 - val_loss: 0.4808 - val_accuracy: 0.7500\n",
            "Epoch 33/50\n",
            "200/200 [==============================] - 2s 9ms/step - loss: 0.4112 - accuracy: 0.8100 - val_loss: 0.4829 - val_accuracy: 0.7328\n",
            "Epoch 34/50\n",
            "200/200 [==============================] - 2s 9ms/step - loss: 0.4418 - accuracy: 0.7862 - val_loss: 0.4838 - val_accuracy: 0.7241\n",
            "Epoch 35/50\n",
            "200/200 [==============================] - 1s 3ms/step - loss: 0.4152 - accuracy: 0.8213 - val_loss: 0.4895 - val_accuracy: 0.7500\n",
            "Epoch 36/50\n",
            "200/200 [==============================] - 1s 3ms/step - loss: 0.4247 - accuracy: 0.8012 - val_loss: 0.4994 - val_accuracy: 0.7586\n",
            "Epoch 37/50\n",
            "200/200 [==============================] - 1s 3ms/step - loss: 0.4339 - accuracy: 0.7925 - val_loss: 0.4815 - val_accuracy: 0.7586\n",
            "Epoch 38/50\n",
            "200/200 [==============================] - 1s 3ms/step - loss: 0.3882 - accuracy: 0.8112 - val_loss: 0.5011 - val_accuracy: 0.7500\n",
            "Epoch 39/50\n",
            "200/200 [==============================] - 1s 3ms/step - loss: 0.4389 - accuracy: 0.7912 - val_loss: 0.4780 - val_accuracy: 0.7155\n",
            "Epoch 40/50\n",
            "200/200 [==============================] - 1s 3ms/step - loss: 0.4260 - accuracy: 0.7975 - val_loss: 0.4844 - val_accuracy: 0.7414\n",
            "Epoch 41/50\n",
            "140/200 [====================>.........] - ETA: 0s - loss: 0.3940 - accuracy: 0.8143"
          ]
        },
        {
          "output_type": "stream",
          "name": "stderr",
          "text": [
            "WARNING:tensorflow:Your input ran out of data; interrupting training. Make sure that your dataset or generator can generate at least `steps_per_epoch * epochs` batches (in this case, 10000 batches). You may need to use the repeat() function when building your dataset.\n"
          ]
        },
        {
          "output_type": "stream",
          "name": "stdout",
          "text": [
            "\b\b\b\b\b\b\b\b\b\b\b\b\b\b\b\b\b\b\b\b\b\b\b\b\b\b\b\b\b\b\b\b\b\b\b\b\b\b\b\b\b\b\b\b\b\b\b\b\b\b\b\b\b\b\b\b\b\b\b\b\b\b\b\b\b\b\b\b\b\b\b\b\b\b\b\b\b\b\b\b\b\b\b\b\r200/200 [==============================] - 1s 2ms/step - loss: 0.3983 - accuracy: 0.8150 - val_loss: 0.4801 - val_accuracy: 0.7586\n"
          ]
        }
      ]
    },
    {
      "cell_type": "code",
      "source": [
        "model.evaluate(xtest,ytest)"
      ],
      "metadata": {
        "colab": {
          "base_uri": "https://localhost:8080/"
        },
        "id": "x7CW4wgK7zSY",
        "outputId": "5fb92391-d2ed-4916-9544-010746ae9e44"
      },
      "execution_count": null,
      "outputs": [
        {
          "output_type": "stream",
          "name": "stdout",
          "text": [
            "4/4 [==============================] - 0s 4ms/step - loss: 93.1821 - accuracy: 0.6810\n"
          ]
        },
        {
          "output_type": "execute_result",
          "data": {
            "text/plain": [
              "[93.18208312988281, 0.681034505367279]"
            ]
          },
          "metadata": {},
          "execution_count": 27
        }
      ]
    },
    {
      "cell_type": "markdown",
      "source": [
        "The ANN trained on the standardised and upsampled data performed the best result with 68% test accuracy."
      ],
      "metadata": {
        "id": "U6j63M0h-9o3"
      }
    },
    {
      "cell_type": "code",
      "source": [
        "model.save(\"DiaCare.h5\")"
      ],
      "metadata": {
        "id": "Kjjkgwj772F4"
      },
      "execution_count": null,
      "outputs": []
    },
    {
      "cell_type": "code",
      "source": [
        "from tensorflow import keras\n",
        "model1 = keras.models.load_model(\"DiaCare.h5\")"
      ],
      "metadata": {
        "id": "91T2TUS-DhCU"
      },
      "execution_count": null,
      "outputs": []
    },
    {
      "cell_type": "code",
      "source": [
        "model1.predict()"
      ],
      "metadata": {
        "id": "7dyVqFSOHa95",
        "colab": {
          "base_uri": "https://localhost:8080/",
          "height": 311
        },
        "outputId": "8f70748d-b8d8-4683-9214-7ef8f118fab0"
      },
      "execution_count": null,
      "outputs": [
        {
          "output_type": "error",
          "ename": "TypeError",
          "evalue": "ignored",
          "traceback": [
            "\u001b[0;31m---------------------------------------------------------------------------\u001b[0m",
            "\u001b[0;31mTypeError\u001b[0m                                 Traceback (most recent call last)",
            "\u001b[0;32m<ipython-input-30-e6d76aa198a0>\u001b[0m in \u001b[0;36m<module>\u001b[0;34m\u001b[0m\n\u001b[0;32m----> 1\u001b[0;31m \u001b[0mmodel1\u001b[0m\u001b[0;34m.\u001b[0m\u001b[0mpredict\u001b[0m\u001b[0;34m(\u001b[0m\u001b[0;34m)\u001b[0m\u001b[0;34m\u001b[0m\u001b[0;34m\u001b[0m\u001b[0m\n\u001b[0m",
            "\u001b[0;32m/usr/local/lib/python3.9/dist-packages/keras/utils/traceback_utils.py\u001b[0m in \u001b[0;36merror_handler\u001b[0;34m(*args, **kwargs)\u001b[0m\n\u001b[1;32m     68\u001b[0m             \u001b[0;31m# To get the full stack trace, call:\u001b[0m\u001b[0;34m\u001b[0m\u001b[0;34m\u001b[0m\u001b[0m\n\u001b[1;32m     69\u001b[0m             \u001b[0;31m# `tf.debugging.disable_traceback_filtering()`\u001b[0m\u001b[0;34m\u001b[0m\u001b[0;34m\u001b[0m\u001b[0m\n\u001b[0;32m---> 70\u001b[0;31m             \u001b[0;32mraise\u001b[0m \u001b[0me\u001b[0m\u001b[0;34m.\u001b[0m\u001b[0mwith_traceback\u001b[0m\u001b[0;34m(\u001b[0m\u001b[0mfiltered_tb\u001b[0m\u001b[0;34m)\u001b[0m \u001b[0;32mfrom\u001b[0m \u001b[0;32mNone\u001b[0m\u001b[0;34m\u001b[0m\u001b[0;34m\u001b[0m\u001b[0m\n\u001b[0m\u001b[1;32m     71\u001b[0m         \u001b[0;32mfinally\u001b[0m\u001b[0;34m:\u001b[0m\u001b[0;34m\u001b[0m\u001b[0;34m\u001b[0m\u001b[0m\n\u001b[1;32m     72\u001b[0m             \u001b[0;32mdel\u001b[0m \u001b[0mfiltered_tb\u001b[0m\u001b[0;34m\u001b[0m\u001b[0;34m\u001b[0m\u001b[0m\n",
            "\u001b[0;32m/usr/local/lib/python3.9/dist-packages/keras/utils/traceback_utils.py\u001b[0m in \u001b[0;36merror_handler\u001b[0;34m(*args, **kwargs)\u001b[0m\n\u001b[1;32m     63\u001b[0m         \u001b[0mfiltered_tb\u001b[0m \u001b[0;34m=\u001b[0m \u001b[0;32mNone\u001b[0m\u001b[0;34m\u001b[0m\u001b[0;34m\u001b[0m\u001b[0m\n\u001b[1;32m     64\u001b[0m         \u001b[0;32mtry\u001b[0m\u001b[0;34m:\u001b[0m\u001b[0;34m\u001b[0m\u001b[0;34m\u001b[0m\u001b[0m\n\u001b[0;32m---> 65\u001b[0;31m             \u001b[0;32mreturn\u001b[0m \u001b[0mfn\u001b[0m\u001b[0;34m(\u001b[0m\u001b[0;34m*\u001b[0m\u001b[0margs\u001b[0m\u001b[0;34m,\u001b[0m \u001b[0;34m**\u001b[0m\u001b[0mkwargs\u001b[0m\u001b[0;34m)\u001b[0m\u001b[0;34m\u001b[0m\u001b[0;34m\u001b[0m\u001b[0m\n\u001b[0m\u001b[1;32m     66\u001b[0m         \u001b[0;32mexcept\u001b[0m \u001b[0mException\u001b[0m \u001b[0;32mas\u001b[0m \u001b[0me\u001b[0m\u001b[0;34m:\u001b[0m\u001b[0;34m\u001b[0m\u001b[0;34m\u001b[0m\u001b[0m\n\u001b[1;32m     67\u001b[0m             \u001b[0mfiltered_tb\u001b[0m \u001b[0;34m=\u001b[0m \u001b[0m_process_traceback_frames\u001b[0m\u001b[0;34m(\u001b[0m\u001b[0me\u001b[0m\u001b[0;34m.\u001b[0m\u001b[0m__traceback__\u001b[0m\u001b[0;34m)\u001b[0m\u001b[0;34m\u001b[0m\u001b[0;34m\u001b[0m\u001b[0m\n",
            "\u001b[0;31mTypeError\u001b[0m: predict() missing 1 required positional argument: 'x'"
          ]
        }
      ]
    },
    {
      "cell_type": "code",
      "source": [
        "def prediction(arr):\n",
        "  temp_vr = np.array(arr)\n",
        "  temp_vr = temp_vr.reshape(-1,6,)\n",
        "  return np.argmax(model.predict(temp_vr))"
      ],
      "metadata": {
        "id": "E0l6Q1UV7ZQz"
      },
      "execution_count": null,
      "outputs": []
    },
    {
      "cell_type": "code",
      "source": [
        "print(type(xtrain))"
      ],
      "metadata": {
        "id": "4CHJbqnK6XX7"
      },
      "execution_count": null,
      "outputs": []
    },
    {
      "cell_type": "markdown",
      "source": [
        "make a dataframe -> with the same format of xtrain -> row of user input add -> we will give this to predict to get the outcome"
      ],
      "metadata": {
        "id": "hHdYKfQM7HY9"
      }
    }
  ]
}